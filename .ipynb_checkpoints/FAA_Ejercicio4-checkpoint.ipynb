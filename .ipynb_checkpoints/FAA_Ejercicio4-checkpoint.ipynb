{
 "cells": [
  {
   "cell_type": "markdown",
   "metadata": {},
   "source": [
    "# Esteganografía"
   ]
  },
  {
   "cell_type": "markdown",
   "metadata": {},
   "source": [
    "### Para intruducirse en el tema sugiero leer: https://www.xataka.com/historia-tecnologica/cuando-una-imagen-oculta-mas-informacion-de-lo-que-parece-que-es-y-como-funciona-la-esteganografia  \n"
   ]
  },
  {
   "cell_type": "code",
   "execution_count": null,
   "metadata": {},
   "outputs": [],
   "source": []
  },
  {
   "cell_type": "code",
   "execution_count": null,
   "metadata": {},
   "outputs": [],
   "source": [
    "##Ejemplo 1: Esto lo armé con: https://parzibyte.me/blog/2018/04/06/esteganografia-python-imagenes-lsb-introduccion/\n",
    "#pip install Pillow"
   ]
  },
  {
   "cell_type": "code",
   "execution_count": 106,
   "metadata": {},
   "outputs": [],
   "source": [
    "###ejemplo con salida.png\n",
    "caracter_terminacion = \"11111111\"\n",
    "def obtener_lsb(byte):\n",
    "\treturn byte[-1]\n",
    "\n",
    "def obtener_representacion_binaria(numero):\n",
    "\treturn bin(numero)[2:].zfill(8)\n",
    "\n",
    "def binario_a_decimal(binario):\n",
    "\treturn int(binario, 2)\n",
    "\n",
    "def caracter_desde_codigo_ascii(numero):\n",
    "\treturn chr(numero)\n",
    "\n",
    "def leer(ruta_imagen):\n",
    "\timagen = Image.open(\"C:/Users/vieraa/OneDrive/Dropbox/UAustral/Fundamentos del AA/Clase VI y VII/applications/heatmap/salida.png\")\n",
    "\tpixeles = imagen.load()\n",
    "\n",
    "\ttamaño = imagen.size\n",
    "\tanchura = tamaño[0]\n",
    "\taltura = tamaño[1]\n",
    "\n",
    "\tbyte = \"\"\n",
    "\tmensaje = \"\"\n",
    "\n",
    "\tfor x in range(anchura):\n",
    "\t\tfor y in range(altura):\n",
    "\t\t\tpixel = pixeles[x, y]\n",
    "\n",
    "\t\t\trojo = pixel[0]\n",
    "\t\t\tverde = pixel[1]\n",
    "\t\t\tazul = pixel[2]\n",
    "\n",
    "\n",
    "\t\t\tbyte += obtener_lsb(obtener_representacion_binaria(rojo))\n",
    "\t\t\tif len(byte) >= 8:\n",
    "\t\t\t\tif byte == caracter_terminacion:\n",
    "\t\t\t\t\tbreak\n",
    "\t\t\t\tmensaje += caracter_desde_codigo_ascii(binario_a_decimal(byte))\n",
    "\t\t\t\tbyte = \"\"\n",
    "\n",
    "\t\t\tbyte += obtener_lsb(obtener_representacion_binaria(verde))\n",
    "\t\t\tif len(byte) >= 8:\n",
    "\t\t\t\tif byte == caracter_terminacion:\n",
    "\t\t\t\t\tbreak\n",
    "\t\t\t\tmensaje += caracter_desde_codigo_ascii(binario_a_decimal(byte))\n",
    "\t\t\t\tbyte = \"\"\n",
    "\n",
    "\t\t\tbyte += obtener_lsb(obtener_representacion_binaria(azul))\n",
    "\t\t\tif len(byte) >= 8:\n",
    "\t\t\t\tif byte == caracter_terminacion:\n",
    "\t\t\t\t\tbreak\n",
    "\t\t\t\tmensaje += caracter_desde_codigo_ascii(binario_a_decimal(byte))\n",
    "\t\t\t\tbyte = \"\"\n",
    "\n",
    "\t\telse:\n",
    "\t\t\tcontinue\n",
    "\t\tbreak\n",
    "\treturn mensaje\n",
    "\n"
   ]
  },
  {
   "cell_type": "code",
   "execution_count": 107,
   "metadata": {},
   "outputs": [
    {
     "name": "stdout",
     "output_type": "stream",
     "text": [
      "El mensaje oculto es:\n",
      "Hola, mundo. Esto es un mensaje oculto desde parzibyte.me/blog\n"
     ]
    }
   ],
   "source": [
    "mensaje = leer(\"salida.png\")\n",
    "print(\"El mensaje oculto es:\")\n",
    "print(mensaje)"
   ]
  },
  {
   "cell_type": "code",
   "execution_count": 109,
   "metadata": {},
   "outputs": [],
   "source": [
    "###vuelvo a correr todo y pruebo con riddle\n",
    "caracter_terminacion = \"11111111\"\n",
    "def obtener_lsb(byte):\n",
    "\treturn byte[-1]\n",
    "\n",
    "def obtener_representacion_binaria(numero):\n",
    "\treturn bin(numero)[2:].zfill(8)\n",
    "\n",
    "def binario_a_decimal(binario):\n",
    "\treturn int(binario, 2)\n",
    "\n",
    "def caracter_desde_codigo_ascii(numero):\n",
    "\treturn chr(numero)\n",
    "\n",
    "def leer(ruta_imagen):\n",
    "\timagen = Image.open(\"C:/Users/vieraa/OneDrive/Dropbox/UAustral/Fundamentos del AA/Clase VI y VII/applications/heatmap/riddle.png\")\n",
    "\tpixeles = imagen.load()\n",
    "\n",
    "\ttamaño = imagen.size\n",
    "\tanchura = tamaño[0]\n",
    "\taltura = tamaño[1]\n",
    "\n",
    "\tbyte = \"\"\n",
    "\tmensaje = \"\"\n",
    "\n",
    "\tfor x in range(anchura):\n",
    "\t\tfor y in range(altura):\n",
    "\t\t\tpixel = pixeles[x, y]\n",
    "\n",
    "\t\t\trojo = pixel[0]\n",
    "\t\t\tverde = pixel[1]\n",
    "\t\t\tazul = pixel[2]\n",
    "\n",
    "\n",
    "\t\t\tbyte += obtener_lsb(obtener_representacion_binaria(rojo))\n",
    "\t\t\tif len(byte) >= 8:\n",
    "\t\t\t\tif byte == caracter_terminacion:\n",
    "\t\t\t\t\tbreak\n",
    "\t\t\t\tmensaje += caracter_desde_codigo_ascii(binario_a_decimal(byte))\n",
    "\t\t\t\tbyte = \"\"\n",
    "\n",
    "\t\t\tbyte += obtener_lsb(obtener_representacion_binaria(verde))\n",
    "\t\t\tif len(byte) >= 8:\n",
    "\t\t\t\tif byte == caracter_terminacion:\n",
    "\t\t\t\t\tbreak\n",
    "\t\t\t\tmensaje += caracter_desde_codigo_ascii(binario_a_decimal(byte))\n",
    "\t\t\t\tbyte = \"\"\n",
    "\n",
    "\t\t\tbyte += obtener_lsb(obtener_representacion_binaria(azul))\n",
    "\t\t\tif len(byte) >= 8:\n",
    "\t\t\t\tif byte == caracter_terminacion:\n",
    "\t\t\t\t\tbreak\n",
    "\t\t\t\tmensaje += caracter_desde_codigo_ascii(binario_a_decimal(byte))\n",
    "\t\t\t\tbyte = \"\"\n",
    "\n",
    "\t\telse:\n",
    "\t\t\tcontinue\n",
    "\t\tbreak\n",
    "\treturn mensaje\n",
    "\n"
   ]
  },
  {
   "cell_type": "code",
   "execution_count": 110,
   "metadata": {},
   "outputs": [
    {
     "name": "stdout",
     "output_type": "stream",
     "text": [
      "El mensaje oculto es:\n",
      "¾Ï|²}õ÷_´×Ë$Û}-óï¯ëýöÝd»Û4ý7¾ín³IüÖëoÒÏfë®ò{÷Í'Óßõmµú[íËu·y¥_|Óû½×É=×Û®KïÞO¶MlÛkföË­ßK¬ÓíoÓk-ºùüÓYlé.þï.¶M§÷Ïóo>·nÚï§ûéöÓûôÝd\n"
     ]
    }
   ],
   "source": [
    "##qué se lee en riddle?\n",
    "\n",
    "mensaje = leer(\"riddle.png\")\n",
    "print(\"El mensaje oculto es:\")\n",
    "print(mensaje)\n",
    "\n",
    "################################"
   ]
  },
  {
   "cell_type": "code",
   "execution_count": null,
   "metadata": {},
   "outputs": [],
   "source": [
    "### Comentario: Me parece que es por acá, yo leyendo no entiendo bien, pero quizás a ese output hay que hacerle algo, tratarlo para  "
   ]
  },
  {
   "cell_type": "code",
   "execution_count": 111,
   "metadata": {},
   "outputs": [],
   "source": [
    "##Ejemplo 2: Esto lo saqué de: https://github.com/gabrieldelaparra/CC5508-2017-1-Tarea1/blob/master/Esteganografia.ipynb "
   ]
  },
  {
   "cell_type": "code",
   "execution_count": 23,
   "metadata": {},
   "outputs": [
    {
     "name": "stdout",
     "output_type": "stream",
     "text": [
      "Requirement already satisfied: Pillow in c:\\programdata\\anaconda3\\lib\\site-packages (8.4.0)Note: you may need to restart the kernel to use updated packages.\n",
      "\n"
     ]
    }
   ],
   "source": [
    "#pip install Pillow"
   ]
  },
  {
   "cell_type": "code",
   "execution_count": 115,
   "metadata": {},
   "outputs": [],
   "source": [
    "from skimage import io\n"
   ]
  },
  {
   "cell_type": "code",
   "execution_count": 116,
   "metadata": {},
   "outputs": [],
   "source": [
    "def bitstring_to_bytes(s):\n",
    "    return int(s, 2).to_bytes(len(s) // 8, byteorder='big')"
   ]
  },
  {
   "cell_type": "code",
   "execution_count": 117,
   "metadata": {},
   "outputs": [],
   "source": [
    "def decodeText(encodedText):\n",
    "    encodedTextNoBits = encodedText\n",
    "    bitString = \"\".join([str(i) for i in encodedTextNoBits])\n",
    "    decodedText = str(bitstring_to_bytes(bitString))[2:-1]\n",
    "    return decodedText"
   ]
  },
  {
   "cell_type": "code",
   "execution_count": 118,
   "metadata": {},
   "outputs": [],
   "source": [
    "def decode(imageFilename):\n",
    "    image = io.imread(\"C:/Users/vieraa/OneDrive/Dropbox/UAustral/Fundamentos del AA/Clase VI y VII/applications/heatmap/salida.png\")\n",
    "    encodedText = []\n",
    "    textCount = 0\n",
    "    nbits = 0\n",
    "    for row in range(0,len(image)):\n",
    "        for column in range(0,len(image[row])):\n",
    "            if textCount < 4:\n",
    "                encodedText.append(image[row][column] & 1)\n",
    "            else:\n",
    "                if textCount == 4:\n",
    "                    nbits = 8*encodedText[0] + 4*encodedText[1] + 2*encodedText[2]+ 1*encodedText[3]\n",
    "\n",
    "                encodedText.append((image[row][column] >> (nbits-1)) & 1)\n",
    "                if((textCount+5)%8 == 0 and textCount > 36):\n",
    "                    if(decodeText(encodedText[-32:]) == END_OF_FILE):\n",
    "                        return decodeText(encodedText[4:-32])\n",
    "\n",
    "            textCount += 1"
   ]
  },
  {
   "cell_type": "code",
   "execution_count": 103,
   "metadata": {},
   "outputs": [
    {
     "ename": "ValueError",
     "evalue": "invalid literal for int() with base 2: '[1 0 0][1 0 0][1 0 0][1 0 0][1 0 0][1 0 0][1 0 0][1 0 0][1 0 0][1 0 0][1 0 0][1 0 0][1 0 0][1 0 0][1 0 0][1 0 0][1 0 0][1 0 0][1 0 0][1 0 0][1 0 0][1 0 0][1 0 0][1 0 0][1 0 0][1 0 0][1 0 0][1 0 0][1 ",
     "output_type": "error",
     "traceback": [
      "\u001b[1;31m---------------------------------------------------------------------------\u001b[0m",
      "\u001b[1;31mValueError\u001b[0m                                Traceback (most recent call last)",
      "\u001b[1;32m~\\AppData\\Local\\Temp/ipykernel_17920/1310516493.py\u001b[0m in \u001b[0;36m<module>\u001b[1;34m\u001b[0m\n\u001b[1;32m----> 1\u001b[1;33m \u001b[0mprint\u001b[0m\u001b[1;33m(\u001b[0m\u001b[0mdecode\u001b[0m\u001b[1;33m(\u001b[0m\u001b[1;34m\"salida.png\"\u001b[0m\u001b[1;33m)\u001b[0m\u001b[1;33m)\u001b[0m\u001b[1;33m\u001b[0m\u001b[1;33m\u001b[0m\u001b[0m\n\u001b[0m",
      "\u001b[1;32m~\\AppData\\Local\\Temp/ipykernel_17920/2761308489.py\u001b[0m in \u001b[0;36mdecode\u001b[1;34m(imageFilename)\u001b[0m\n\u001b[0;32m     14\u001b[0m                 \u001b[0mencodedText\u001b[0m\u001b[1;33m.\u001b[0m\u001b[0mappend\u001b[0m\u001b[1;33m(\u001b[0m\u001b[1;33m(\u001b[0m\u001b[0mimage\u001b[0m\u001b[1;33m[\u001b[0m\u001b[0mrow\u001b[0m\u001b[1;33m]\u001b[0m\u001b[1;33m[\u001b[0m\u001b[0mcolumn\u001b[0m\u001b[1;33m]\u001b[0m \u001b[1;33m>>\u001b[0m \u001b[1;33m(\u001b[0m\u001b[0mnbits\u001b[0m\u001b[1;33m-\u001b[0m\u001b[1;36m1\u001b[0m\u001b[1;33m)\u001b[0m\u001b[1;33m)\u001b[0m \u001b[1;33m&\u001b[0m \u001b[1;36m1\u001b[0m\u001b[1;33m)\u001b[0m\u001b[1;33m\u001b[0m\u001b[1;33m\u001b[0m\u001b[0m\n\u001b[0;32m     15\u001b[0m                 \u001b[1;32mif\u001b[0m\u001b[1;33m(\u001b[0m\u001b[1;33m(\u001b[0m\u001b[0mtextCount\u001b[0m\u001b[1;33m+\u001b[0m\u001b[1;36m5\u001b[0m\u001b[1;33m)\u001b[0m\u001b[1;33m%\u001b[0m\u001b[1;36m8\u001b[0m \u001b[1;33m==\u001b[0m \u001b[1;36m0\u001b[0m \u001b[1;32mand\u001b[0m \u001b[0mtextCount\u001b[0m \u001b[1;33m>\u001b[0m \u001b[1;36m36\u001b[0m\u001b[1;33m)\u001b[0m\u001b[1;33m:\u001b[0m\u001b[1;33m\u001b[0m\u001b[1;33m\u001b[0m\u001b[0m\n\u001b[1;32m---> 16\u001b[1;33m                     \u001b[1;32mif\u001b[0m\u001b[1;33m(\u001b[0m\u001b[0mdecodeText\u001b[0m\u001b[1;33m(\u001b[0m\u001b[0mencodedText\u001b[0m\u001b[1;33m[\u001b[0m\u001b[1;33m-\u001b[0m\u001b[1;36m32\u001b[0m\u001b[1;33m:\u001b[0m\u001b[1;33m]\u001b[0m\u001b[1;33m)\u001b[0m \u001b[1;33m==\u001b[0m \u001b[0mEND_OF_FILE\u001b[0m\u001b[1;33m)\u001b[0m\u001b[1;33m:\u001b[0m\u001b[1;33m\u001b[0m\u001b[1;33m\u001b[0m\u001b[0m\n\u001b[0m\u001b[0;32m     17\u001b[0m                         \u001b[1;32mreturn\u001b[0m \u001b[0mdecodeText\u001b[0m\u001b[1;33m(\u001b[0m\u001b[0mencodedText\u001b[0m\u001b[1;33m[\u001b[0m\u001b[1;36m4\u001b[0m\u001b[1;33m:\u001b[0m\u001b[1;33m-\u001b[0m\u001b[1;36m32\u001b[0m\u001b[1;33m]\u001b[0m\u001b[1;33m)\u001b[0m\u001b[1;33m\u001b[0m\u001b[1;33m\u001b[0m\u001b[0m\n\u001b[0;32m     18\u001b[0m \u001b[1;33m\u001b[0m\u001b[0m\n",
      "\u001b[1;32m~\\AppData\\Local\\Temp/ipykernel_17920/937981309.py\u001b[0m in \u001b[0;36mdecodeText\u001b[1;34m(encodedText)\u001b[0m\n\u001b[0;32m      2\u001b[0m     \u001b[0mencodedTextNoBits\u001b[0m \u001b[1;33m=\u001b[0m \u001b[0mencodedText\u001b[0m\u001b[1;33m\u001b[0m\u001b[1;33m\u001b[0m\u001b[0m\n\u001b[0;32m      3\u001b[0m     \u001b[0mbitString\u001b[0m \u001b[1;33m=\u001b[0m \u001b[1;34m\"\"\u001b[0m\u001b[1;33m.\u001b[0m\u001b[0mjoin\u001b[0m\u001b[1;33m(\u001b[0m\u001b[1;33m[\u001b[0m\u001b[0mstr\u001b[0m\u001b[1;33m(\u001b[0m\u001b[0mi\u001b[0m\u001b[1;33m)\u001b[0m \u001b[1;32mfor\u001b[0m \u001b[0mi\u001b[0m \u001b[1;32min\u001b[0m \u001b[0mencodedTextNoBits\u001b[0m\u001b[1;33m]\u001b[0m\u001b[1;33m)\u001b[0m\u001b[1;33m\u001b[0m\u001b[1;33m\u001b[0m\u001b[0m\n\u001b[1;32m----> 4\u001b[1;33m     \u001b[0mdecodedText\u001b[0m \u001b[1;33m=\u001b[0m \u001b[0mstr\u001b[0m\u001b[1;33m(\u001b[0m\u001b[0mbitstring_to_bytes\u001b[0m\u001b[1;33m(\u001b[0m\u001b[0mbitString\u001b[0m\u001b[1;33m)\u001b[0m\u001b[1;33m)\u001b[0m\u001b[1;33m[\u001b[0m\u001b[1;36m2\u001b[0m\u001b[1;33m:\u001b[0m\u001b[1;33m-\u001b[0m\u001b[1;36m1\u001b[0m\u001b[1;33m]\u001b[0m\u001b[1;33m\u001b[0m\u001b[1;33m\u001b[0m\u001b[0m\n\u001b[0m\u001b[0;32m      5\u001b[0m     \u001b[1;32mreturn\u001b[0m \u001b[0mdecodedText\u001b[0m\u001b[1;33m\u001b[0m\u001b[1;33m\u001b[0m\u001b[0m\n",
      "\u001b[1;32m~\\AppData\\Local\\Temp/ipykernel_17920/948695890.py\u001b[0m in \u001b[0;36mbitstring_to_bytes\u001b[1;34m(s)\u001b[0m\n\u001b[0;32m      1\u001b[0m \u001b[1;32mdef\u001b[0m \u001b[0mbitstring_to_bytes\u001b[0m\u001b[1;33m(\u001b[0m\u001b[0ms\u001b[0m\u001b[1;33m)\u001b[0m\u001b[1;33m:\u001b[0m\u001b[1;33m\u001b[0m\u001b[1;33m\u001b[0m\u001b[0m\n\u001b[1;32m----> 2\u001b[1;33m     \u001b[1;32mreturn\u001b[0m \u001b[0mint\u001b[0m\u001b[1;33m(\u001b[0m\u001b[0ms\u001b[0m\u001b[1;33m,\u001b[0m \u001b[1;36m2\u001b[0m\u001b[1;33m)\u001b[0m\u001b[1;33m.\u001b[0m\u001b[0mto_bytes\u001b[0m\u001b[1;33m(\u001b[0m\u001b[0mlen\u001b[0m\u001b[1;33m(\u001b[0m\u001b[0ms\u001b[0m\u001b[1;33m)\u001b[0m \u001b[1;33m//\u001b[0m \u001b[1;36m8\u001b[0m\u001b[1;33m,\u001b[0m \u001b[0mbyteorder\u001b[0m\u001b[1;33m=\u001b[0m\u001b[1;34m'big'\u001b[0m\u001b[1;33m)\u001b[0m\u001b[1;33m\u001b[0m\u001b[1;33m\u001b[0m\u001b[0m\n\u001b[0m",
      "\u001b[1;31mValueError\u001b[0m: invalid literal for int() with base 2: '[1 0 0][1 0 0][1 0 0][1 0 0][1 0 0][1 0 0][1 0 0][1 0 0][1 0 0][1 0 0][1 0 0][1 0 0][1 0 0][1 0 0][1 0 0][1 0 0][1 0 0][1 0 0][1 0 0][1 0 0][1 0 0][1 0 0][1 0 0][1 0 0][1 0 0][1 0 0][1 0 0][1 0 0][1 "
     ]
    }
   ],
   "source": [
    "print(decode(\"salida.png\"))"
   ]
  },
  {
   "cell_type": "code",
   "execution_count": null,
   "metadata": {},
   "outputs": [],
   "source": []
  }
 ],
 "metadata": {
  "kernelspec": {
   "display_name": "Python 3 (ipykernel)",
   "language": "python",
   "name": "python3"
  },
  "language_info": {
   "codemirror_mode": {
    "name": "ipython",
    "version": 3
   },
   "file_extension": ".py",
   "mimetype": "text/x-python",
   "name": "python",
   "nbconvert_exporter": "python",
   "pygments_lexer": "ipython3",
   "version": "3.9.7"
  }
 },
 "nbformat": 4,
 "nbformat_minor": 4
}
